{
 "cells": [
  {
   "cell_type": "markdown",
   "metadata": {},
   "source": [
    "# Introduction to Python\n",
    "\n",
    "## Part III: Visualization with open data\n",
    "\n",
    "\n",
    "This document is heavily based on the Python-Novice-Gapminder lesson developed by Software Carpentry, and the original lesson can be found online at http://swcarpentry.github.io/python-novice-gapminder/\n",
    "\n"
   ]
  },
  {
   "cell_type": "code",
   "execution_count": null,
   "metadata": {},
   "outputs": [],
   "source": [
    "import pandas\n",
    "oceania_data = pandas.read_csv('data/gapminder_gdp_oceania.csv')"
   ]
  },
  {
   "cell_type": "markdown",
   "metadata": {},
   "source": [
    "We're calling the `read_csv` function in the `pandas` library. Right now we're giving it one text argument which is the file path to the file we're reading in. If you go back to the file manager view of Jupyter you'll see a folder called `data`, which is containing several files, one of which is `gapminder_gdp_oceania.csv`."
   ]
  },
  {
   "cell_type": "code",
   "execution_count": null,
   "metadata": {},
   "outputs": [],
   "source": [
    "oceania_data"
   ]
  },
  {
   "cell_type": "markdown",
   "metadata": {},
   "source": [
    "Jupyter is clever enough to recognize this data is a table and display it to us in a table format. We see here that we first start with a column called `country`, and then proceeed to have GDP measurements over many years. Each row of this dataset currently has a name, which is just '0' or '1'. In many cases we'd like to specify that the names of the rows are denoted by the `country` column. We can do that in the `read_csv` function by specifying the `index_col` parameter. \n",
    "\n",
    "Note here that this is the first time we've called a function or method with a *named* parameter; this is extremely useful when a function or method might have dozens of default parameters and we want to change just one, in which case we don't have to list through all the other parameters in the exact right order."
   ]
  },
  {
   "cell_type": "code",
   "execution_count": null,
   "metadata": {},
   "outputs": [],
   "source": [
    "oceania_data = pandas.read_csv('data/gapminder_gdp_oceania.csv', index_col='country')\n",
    "oceania_data"
   ]
  },
  {
   "cell_type": "markdown",
   "metadata": {},
   "source": [
    "Now we see that the country column is used to set the row names. "
   ]
  },
  {
   "cell_type": "markdown",
   "metadata": {},
   "source": [
    "There are a lot of things available on pandas dataframes to use."
   ]
  },
  {
   "cell_type": "markdown",
   "metadata": {},
   "source": [
    "## Selecting Values in Pandas DataFrames"
   ]
  },
  {
   "cell_type": "markdown",
   "metadata": {},
   "source": [
    "Remember with lists how we could use square brackets to select specific values? We can (mostly) do the same thing with DataFrames, but there are two ways to do it."
   ]
  },
  {
   "cell_type": "code",
   "execution_count": null,
   "metadata": {},
   "outputs": [],
   "source": [
    "# Just loading a larger dataset first\n",
    "europe_data = pandas.read_csv('data/gapminder_gdp_europe.csv', index_col='country')"
   ]
  },
  {
   "cell_type": "markdown",
   "metadata": {},
   "source": [
    "## Plotting"
   ]
  },
  {
   "cell_type": "markdown",
   "metadata": {},
   "source": [
    "For plotting we use the `matplotlib` library."
   ]
  },
  {
   "cell_type": "code",
   "execution_count": null,
   "metadata": {},
   "outputs": [],
   "source": [
    "import matplotlib.pyplot as plt\n",
    "# see our use of aliasing so that we won't have to type matplotlib.pyplot over and over again"
   ]
  },
  {
   "cell_type": "markdown",
   "metadata": {},
   "source": [
    "Here's a simple example with two sets of points"
   ]
  },
  {
   "cell_type": "code",
   "execution_count": null,
   "metadata": {},
   "outputs": [],
   "source": [
    "time = [0, 1, 2, 3]\n",
    "position = [0, 50, 150, 300]\n",
    "\n",
    "plt.plot(time, position)\n",
    "plt.xlabel('Time (hr)')\n",
    "plt.ylabel('Position (km)')\n",
    "plt.title('Distance Plot')"
   ]
  },
  {
   "cell_type": "markdown",
   "metadata": {},
   "source": [
    "You can imagine we might want to plot data from our dataframe. Let's extract the years from the column names first. Just a reminder that we can access the column names using `oceania_data.columns`."
   ]
  },
  {
   "cell_type": "code",
   "execution_count": null,
   "metadata": {},
   "outputs": [],
   "source": [
    "print(type(oceania_data.columns))\n",
    "print(oceania_data.columns)"
   ]
  },
  {
   "cell_type": "code",
   "execution_count": null,
   "metadata": {},
   "outputs": [],
   "source": [
    "# Taking the last 4 characters from the string\n",
    "# Also note that we're using the shortcut way of working with each value in a list.\n",
    "years_str = [x[(len(x)-4):] for x in oceania_data.columns]\n",
    "years_str # close; now we want it to be numeric"
   ]
  },
  {
   "cell_type": "code",
   "execution_count": null,
   "metadata": {},
   "outputs": [],
   "source": [
    "years_int = [int(x) for x in years_str]\n",
    "years_int"
   ]
  },
  {
   "cell_type": "code",
   "execution_count": null,
   "metadata": {},
   "outputs": [],
   "source": [
    "# Plot Australia's GDP\n",
    "plt.plot(years_int, oceania_data.loc['Australia', :])\n",
    "plt.xlabel('Year')\n",
    "plt.ylabel('GDP Per Capita')\n",
    "plt.title('GDP Per Capita of Australia')"
   ]
  },
  {
   "cell_type": "code",
   "execution_count": null,
   "metadata": {},
   "outputs": [],
   "source": [
    "# We can plot both Australia and New Zealand, but we have to transform the data so that the columns are countries\n",
    "lines = plt.plot(years_int, oceania_data.T)\n",
    "plt.xlabel('Year')\n",
    "plt.ylabel('GDP Per Capita')\n",
    "plt.title('GDP Per Capita of Oceania')\n",
    "\n",
    "plt.legend(lines, ['Australia', 'New Zealand'])"
   ]
  },
  {
   "cell_type": "markdown",
   "metadata": {},
   "source": [
    "It turns out that `pandas` dataframes have plot functionality built into them directly that will handle labels for you. However we'll want to first replace the column names with the actual year values."
   ]
  },
  {
   "cell_type": "code",
   "execution_count": null,
   "metadata": {},
   "outputs": [],
   "source": [
    "# First what happens if we don't replace the columns\n",
    "oceania_data.T.plot()"
   ]
  },
  {
   "cell_type": "markdown",
   "metadata": {},
   "source": [
    "It tries to plot the column labels, equally spaced, which is seldom what we want."
   ]
  },
  {
   "cell_type": "code",
   "execution_count": null,
   "metadata": {},
   "outputs": [],
   "source": [
    "oceania_data.columns = years_int # we change the actual column names\n",
    "oceania_data.T.plot()\n",
    "\n",
    "# we can still set axis values if we want\n",
    "plt.ylabel('GDP Per Capita')"
   ]
  },
  {
   "cell_type": "markdown",
   "metadata": {},
   "source": [
    "We can also still plot individual countries as well like before."
   ]
  },
  {
   "cell_type": "code",
   "execution_count": null,
   "metadata": {},
   "outputs": [],
   "source": [
    "oceania_data.loc['Australia', :].plot()"
   ]
  },
  {
   "cell_type": "markdown",
   "metadata": {},
   "source": [
    "You can change the types of plots by specifying `kind`."
   ]
  },
  {
   "cell_type": "code",
   "execution_count": null,
   "metadata": {},
   "outputs": [],
   "source": [
    "oceania_data.T.plot(kind='bar')"
   ]
  },
  {
   "cell_type": "markdown",
   "metadata": {},
   "source": [
    "We can also make scatter plots easily. Suppose we want to plot Australia's GDP versus New Zealand's GDP."
   ]
  },
  {
   "cell_type": "code",
   "execution_count": null,
   "metadata": {},
   "outputs": [],
   "source": [
    "# Using matplotlib directly\n",
    "australia_gdp = oceania_data.loc['Australia', :]\n",
    "new_zealand_gdp = oceania_data.loc['New Zealand', :]\n",
    "\n",
    "plt.scatter(australia_gdp, new_zealand_gdp)"
   ]
  },
  {
   "cell_type": "code",
   "execution_count": null,
   "metadata": {},
   "outputs": [],
   "source": [
    "# Here we can call scatter from the dataframe directly, specifying the two columns (remember we took the transpose)\n",
    "oceania_data.T.plot.scatter(x='Australia', y='New Zealand')"
   ]
  },
  {
   "cell_type": "markdown",
   "metadata": {},
   "source": [
    "### Practice\n",
    "\n",
    "* Using the dataframe you created last practice of the percent gdp change, plot the change in GDP for at least 3 countries of your choice. Remember to convert the columns to numeric years that can be plotted. If you weren't able to create that dataframe last practice, then use `europe_relative_data` instead.\n",
    "* Make sure your plot has an x-label, a y-label, a title, and a legend."
   ]
  },
  {
   "cell_type": "code",
   "execution_count": null,
   "metadata": {},
   "outputs": [],
   "source": []
  },
  {
   "cell_type": "code",
   "execution_count": null,
   "metadata": {},
   "outputs": [],
   "source": []
  },
  {
   "cell_type": "markdown",
   "metadata": {},
   "source": [
    "## Interactive Plots with Cufflinks\n",
    "\n",
    "One drawback of using matplotlib is that the plots are static. We can use Plotly express to create interactive, easy-to-create plots. \n",
    "\n",
    "Let's explore one application of Plotly called Cufflinks. \n",
    "\n",
    "Cufflinks as as a pandas method - adding one more tool to your tool kit. \n",
    "\n",
    "To create a plot, call the dataframe then use dot notation '.' followed by the function iplot(), specify the kind, and pass other parameters. \n",
    "\n",
    "Let's try a few commands.\n"
   ]
  },
  {
   "cell_type": "code",
   "execution_count": null,
   "metadata": {
    "scrolled": true
   },
   "outputs": [],
   "source": [
    "#!conda install -y -c conda-forge cufflinks-py"
   ]
  },
  {
   "cell_type": "code",
   "execution_count": null,
   "metadata": {},
   "outputs": [],
   "source": [
    "import cufflinks as cf\n",
    "cf.go_offline()"
   ]
  },
  {
   "cell_type": "code",
   "execution_count": null,
   "metadata": {},
   "outputs": [],
   "source": [
    "import pandas as pd\n",
    "all_of_gp = pd.read_csv(\"data/gapminder_all.csv\")\n",
    "all_of_gp.head()"
   ]
  },
  {
   "cell_type": "code",
   "execution_count": null,
   "metadata": {},
   "outputs": [],
   "source": [
    "all_of_gp.columnsumns"
   ]
  },
  {
   "cell_type": "code",
   "execution_count": null,
   "metadata": {},
   "outputs": [],
   "source": [
    "gdp_2002_2007 = all_of_gp.groupby(\"continent\")[[\"gdpPercap_2002\",\"gdpPercap_2007\"]].mean()\n",
    "\n",
    "gdp_2002_2007.iplot(kind='bar',title=\"Average GDP by continent, 2002, 2007\")"
   ]
  },
  {
   "cell_type": "code",
   "execution_count": null,
   "metadata": {},
   "outputs": [],
   "source": [
    "life_2002_2007 = all_of_gp.groupby(\"continent\")[[\"lifeExp_2002\", \"lifeExp_2007\"]].mean()\n",
    "\n",
    "\n",
    "life_2002_2007.iplot(kind='line',title=\"Average Life Expectancy by continent, 2002, 2007\")"
   ]
  },
  {
   "cell_type": "code",
   "execution_count": null,
   "metadata": {},
   "outputs": [],
   "source": [
    "pop_2002_2007 = all_of_gp.groupby(\"continent\")[[\"pop_2002\",\"pop_2007\"]].mean()\n",
    "\n",
    "pop_2002_2007.iplot(kind='area',title=\"Average Population by continent, 2002, 2007\",\n",
    "                   values=\"pop_2002\",labels=\"pop_2002\",fill=True)"
   ]
  },
  {
   "cell_type": "code",
   "execution_count": null,
   "metadata": {},
   "outputs": [],
   "source": [
    "countries_per_cont = all_of_gp.groupby(\"continent\").size().reset_index(name=\"Count\")\n",
    "\n",
    "countries_per_cont.iplot(kind='pie',values=\"Count\",labels='continent',title=\"How many countries per continent?\")"
   ]
  },
  {
   "cell_type": "markdown",
   "metadata": {},
   "source": [
    "## More Tools Using Plotly Express\n",
    "\n",
    "Let's take a look at the relationship between GDP Per Capita and Life Expectancy in 2007 for \"Americas\"."
   ]
  },
  {
   "cell_type": "code",
   "execution_count": null,
   "metadata": {},
   "outputs": [],
   "source": [
    "import plotly.express as px"
   ]
  },
  {
   "cell_type": "code",
   "execution_count": null,
   "metadata": {},
   "outputs": [],
   "source": [
    "all_of_gp.head()"
   ]
  },
  {
   "cell_type": "code",
   "execution_count": null,
   "metadata": {},
   "outputs": [],
   "source": [
    "all_of_gp.columns"
   ]
  },
  {
   "cell_type": "code",
   "execution_count": null,
   "metadata": {},
   "outputs": [],
   "source": [
    "america_data = all_of_gp[all_of_gp['continent']==\"Americas\"]\n",
    "\n",
    "fig = px.scatter(america_data,x=\"lifeExp_2007\",\n",
    "           y=\"gdpPercap_2007\")\n",
    "\n",
    "fig.show()"
   ]
  },
  {
   "cell_type": "markdown",
   "metadata": {},
   "source": [
    "### Customizing plot"
   ]
  },
  {
   "cell_type": "code",
   "execution_count": null,
   "metadata": {},
   "outputs": [],
   "source": [
    "fig = px.scatter(america_data,x=\"lifeExp_2007\",\n",
    "           y=\"gdpPercap_2007\",\n",
    "           color='country',\n",
    "           title='Life expectancy vs GDP Per Capita (2007, America)')\n",
    "\n",
    "fig.show()"
   ]
  },
  {
   "cell_type": "code",
   "execution_count": null,
   "metadata": {},
   "outputs": [],
   "source": [
    "fig = px.scatter(america_data,x=\"lifeExp_2007\",\n",
    "           y=\"gdpPercap_2007\",\n",
    "           color='country',\n",
    "           title='Life expectancy vs GDP Per Capita (2007, America)',\n",
    "                labels={\n",
    "                    \"lifeExp_2007\": \"Life Expectancy 2007\",\n",
    "                    \"gdpPercap_2007\":\"GDP Per Capita 2007\"\n",
    "                })\n",
    "\n",
    "fig.show()"
   ]
  },
  {
   "cell_type": "code",
   "execution_count": null,
   "metadata": {},
   "outputs": [],
   "source": [
    "fig.write_html(\"./scatter_plot_gdp_2009.html\")"
   ]
  },
  {
   "cell_type": "markdown",
   "metadata": {},
   "source": [
    "### Other kinds of plots with Plotly express"
   ]
  },
  {
   "cell_type": "code",
   "execution_count": null,
   "metadata": {},
   "outputs": [],
   "source": [
    "fig = px.violin(all_of_gp,x=\"continent\",y=\"pop_2007\",\n",
    "               title=\"Population for 2007 (violin plot, all continents)\")\n",
    "\n",
    "fig.show()"
   ]
  },
  {
   "cell_type": "code",
   "execution_count": null,
   "metadata": {},
   "outputs": [],
   "source": [
    "fig = px.box(all_of_gp,x=\"continent\",y=\"pop_2007\",\n",
    "               title=\"Population for 2007 (box plot, all continents)\")\n",
    "\n",
    "fig.show()"
   ]
  },
  {
   "cell_type": "code",
   "execution_count": null,
   "metadata": {},
   "outputs": [],
   "source": [
    "fig = px.density_contour(all_of_gp,y=\"continent\",x=\"gdpPercap_2007\",\n",
    "               title=\"Density contour map\")\n",
    "\n",
    "fig.show()"
   ]
  },
  {
   "cell_type": "code",
   "execution_count": null,
   "metadata": {},
   "outputs": [],
   "source": [
    "fig = px.density_heatmap(all_of_gp,\n",
    "                         x='continent',\n",
    "                         y='gdpPercap_2007',\n",
    "                        title= \"GDP Per Capita 2007, all continents\")\n",
    "\n",
    "fig.show()"
   ]
  },
  {
   "cell_type": "markdown",
   "metadata": {},
   "source": [
    "## Exercise\n",
    "\n",
    "Open up discussion - when do we want to use either of the methods above? \n",
    "Customize any of the plots we generated, and save to html\n"
   ]
  },
  {
   "cell_type": "code",
   "execution_count": null,
   "metadata": {},
   "outputs": [],
   "source": []
  },
  {
   "cell_type": "code",
   "execution_count": null,
   "metadata": {},
   "outputs": [],
   "source": []
  }
 ],
 "metadata": {
  "kernelspec": {
   "display_name": "Python 3",
   "language": "python",
   "name": "python3"
  },
  "language_info": {
   "codemirror_mode": {
    "name": "ipython",
    "version": 3
   },
   "file_extension": ".py",
   "mimetype": "text/x-python",
   "name": "python",
   "nbconvert_exporter": "python",
   "pygments_lexer": "ipython3",
   "version": "3.8.3"
  }
 },
 "nbformat": 4,
 "nbformat_minor": 4
}
